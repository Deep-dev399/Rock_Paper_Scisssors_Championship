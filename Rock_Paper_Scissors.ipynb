{
 "cells": [
  {
   "cell_type": "markdown",
   "id": "4d60e999-7614-4665-8681-757f467a1d62",
   "metadata": {},
   "source": [
    "#  Project : Rock, Paper and Scissors"
   ]
  },
  {
   "cell_type": "code",
   "execution_count": 31,
   "id": "0b8db1cb-a11f-43b4-9235-8d8cf2ba0cd8",
   "metadata": {},
   "outputs": [
    {
     "name": "stdout",
     "output_type": "stream",
     "text": [
      "Welcome to the Rock Paper Scissors Championship\n"
     ]
    },
    {
     "name": "stdin",
     "output_type": "stream",
     "text": [
      "Choose one of the three : Rock, Paper or Scissors - Scissors\n"
     ]
    },
    {
     "name": "stdout",
     "output_type": "stream",
     "text": [
      "You choose :\n",
      "\n",
      "    _______\n",
      "---'   ____)____\n",
      "          ______)\n",
      "       __________)\n",
      "      (____)\n",
      "---.__(___)\n",
      "\n",
      "Computer choose :\n",
      "\n",
      "     _______\n",
      "---'    ____)____\n",
      "           ______)\n",
      "          _______)\n",
      "         _______)\n",
      "---.__________)\n",
      "\n",
      "You Won!\n"
     ]
    }
   ],
   "source": [
    "#Rock\n",
    "Rock = \"\"\"\n",
    "    _______\n",
    "---'   ____)\n",
    "      (_____)\n",
    "      (_____)\n",
    "      (____)\n",
    "---.__(___)\n",
    "\"\"\"\n",
    "\n",
    "# Paper\n",
    "Paper = \"\"\"\n",
    "     _______\n",
    "---'    ____)____\n",
    "           ______)\n",
    "          _______)\n",
    "         _______)\n",
    "---.__________)\n",
    "\"\"\"\n",
    "\n",
    "# Scissors\n",
    "Scissors = \"\"\"\n",
    "    _______\n",
    "---'   ____)____\n",
    "          ______)\n",
    "       __________)\n",
    "      (____)\n",
    "---.__(___)\n",
    "\"\"\"\n",
    "\n",
    "import random\n",
    "\n",
    "print(\"Welcome to the Rock Paper Scissors Championship\")\n",
    "Choices = [Rock,Paper,Scissors]\n",
    "computer_random_number = random.randint(0,len(Choices)-1)\n",
    "computer_choice = Choices[computer_random_number]\n",
    "\n",
    "user_choice = input(\"Choose one of the three : Rock, Paper or Scissors -\")\n",
    "\n",
    "if(user_choice == \"Rock\" and computer_choice == Rock):\n",
    "    print(\"You choose :\\n\" + Rock + \"\\n\" + \"Computer choose :\\n\" + computer_choice)\n",
    "    print(\"No Result!\")\n",
    "if(user_choice == \"Rock\" and computer_choice == Paper):\n",
    "    print(\"You choose :\\n\" + Rock + \"\\n\" + \"Computer choose :\\n\" + computer_choice)\n",
    "    print(\"You lose!\")\n",
    "if(user_choice == \"Rock\" and computer_choice == Scissors):\n",
    "    print(\"You choose :\\n\" + Rock + \"\\n\" + \"Computer choose :\\n\" + computer_choice)\n",
    "    print(\"You Won!\")\n",
    "\n",
    "if(user_choice == \"Paper\" and computer_choice == Paper):\n",
    "    print(\"You choose :\\n\" + Paper + \"\\n\" + \"Computer choose :\\n\" + computer_choice)\n",
    "    print(\"No Result\")\n",
    "if(user_choice == \"Paper\" and computer_choice == Rock):\n",
    "    print(\"You choose :\\n\" + Paper + \"\\n\" + \"Computer choose :\\n\" + computer_choice)\n",
    "    print(\"You lose!\")\n",
    "if(user_choice == \"Paper\" and computer_choice == Scissors):\n",
    "    print(\"You choose :\\n\" + Paper + \"\\n\" + \"Computer choose :\\n\" + computer_choice)\n",
    "    print(\"You lose!\")\n",
    "\n",
    "if(user_choice == \"Scissors\" and computer_choice == Scissors):\n",
    "    print(\"You choose :\\n\" + Scissors + \"\\n\" + \"Computer choose :\\n\" + computer_choice)\n",
    "    print(\"No Result\")\n",
    "if(user_choice == \"Scissors\" and computer_choice == Rock):\n",
    "    print(\"You choose :\\n\" + Scissors + \"\\n\" + \"Computer choose :\\n\" + computer_choice)\n",
    "    print(\"You lose!\")\n",
    "if(user_choice == \"Scissors\" and computer_choice == Paper):\n",
    "    print(\"You choose :\\n\" + Scissors + \"\\n\" + \"Computer choose :\\n\" + computer_choice)\n",
    "    print(\"You Won!\")"
   ]
  },
  {
   "cell_type": "code",
   "execution_count": null,
   "id": "0065fc97-0dbc-4269-8c19-3e503b936c40",
   "metadata": {},
   "outputs": [],
   "source": []
  }
 ],
 "metadata": {
  "kernelspec": {
   "display_name": "Python 3 (ipykernel)",
   "language": "python",
   "name": "python3"
  },
  "language_info": {
   "codemirror_mode": {
    "name": "ipython",
    "version": 3
   },
   "file_extension": ".py",
   "mimetype": "text/x-python",
   "name": "python",
   "nbconvert_exporter": "python",
   "pygments_lexer": "ipython3",
   "version": "3.12.4"
  }
 },
 "nbformat": 4,
 "nbformat_minor": 5
}
